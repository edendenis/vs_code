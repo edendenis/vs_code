{
 "cells": [
  {
   "cell_type": "markdown",
   "metadata": {},
   "source": [
    "# Como configurar/instalar/usar o `VS Code` no `Linux Ubuntu`\n",
    "\n",
    "## Resumo\n",
    "\n",
    "Neste documento estão contidos os principais comandos e configurações para configurar/instalar o `VS Code` no `Linux Ubuntu`.\n",
    "\n",
    "## _Abstract_\n",
    "\n",
    "_In this document are contained the main commands and settings to set up/install/usae the `VS Code` on `Linux Ubuntu`._"
   ]
  },
  {
   "cell_type": "markdown",
   "metadata": {},
   "source": [
    "## Descrição [2]\n",
    "\n",
    "### `VS Code (VS Code)`\n",
    "\n",
    "O `VS Code`, comumente conhecido como `VS Code`, é um editor de código-fonte altamente popular e amplamente utilizado por desenvolvedores de software em todo o mundo. Desenvolvido pela Microsoft, o `VS Code` é uma ferramenta altamente personalizável e extensível, que oferece suporte a uma ampla variedade de linguagens de programação e _frameworks_. Sua interface simples e intuitiva, juntamente com recursos poderosos, como realce de sintaxe, depuração integrada, controle de versão e uma vasta coleção de extensões disponíveis na sua loja, tornam-no uma escolha preferida para muitos programadores que buscam eficiência e produtividade em seus projetos de desenvolvimento de _software_.\n",
    "\n",
    "### `Linting`\n",
    "\n",
    "O `Linting` é o processo de análise estática de código-fonte para identificar problemas, erros de sintaxe, e más práticas de programação antes da execução do programa. Ferramentas de linting, conhecidas como _linters_, verificam o código em busca de inconsistências, padrões de estilo e potenciais _bugs_, ajudando os desenvolvedores a manterem a qualidade e legibilidade do código. Esse recurso é especialmente valioso em equipes de desenvolvimento, pois promove a conformidade com diretrizes de codificação e reduz a probabilidade de erros em produção, resultando em um código mais robusto e fácil de manter.\n",
    "\n",
    "### `PyLance`\n",
    "\n",
    "O `PyLance` é uma extensão para o `VS Code` que oferece suporte avançado ao `Python`, proporcionando uma experiência de codificação mais eficiente. Baseado no `Pyright`, um servidor de linguagem desenvolvido pela `Microsoft`, o `PyLance` fornece recursos como autocompletar (_IntelliSense_), verificação de tipos estática, navegação de código e documentação _inline_, ajudando os desenvolvedores a escrever código mais preciso e sem erros. Ele é amplamente utilizado para melhorar a produtividade ao trabalhar com projetos `Python`, oferecendo ferramentas poderosas de análise e sugestões em tempo real.\n"
   ]
  },
  {
   "cell_type": "markdown",
   "metadata": {},
   "source": [
    "## 1. Como configurar/instalar/usar o `VS Code` no `Linux Ubuntu` [1]\n",
    "\n",
    "Para configurar/instalar/usar o `VS Code` no `Linux Ubuntu`, você pode seguir estas etapas:\n",
    "\n",
    "1. Abra o `Terminal Emulator`. Você pode fazer isso pressionando: `Ctrl + Alt + T`\n"
   ]
  },
  {
   "cell_type": "markdown",
   "metadata": {},
   "source": [
    "2. Certifique-se de que seu sistema esteja limpo e atualizado.\n",
    "\n",
    "    2.1 Limpar o `cache` do gerenciador de pacotes `apt`. Especificamente, ele remove todos os arquivos de pacotes (`.deb`) baixados pelo `apt` e armazenados em `/var/cache/apt/archives/`. Digite o seguinte comando:\n",
    "    \n",
    "    ```bash\n",
    "    sudo apt clean\n",
    "    ``` \n",
    "    \n",
    "    2.2 Remover pacotes `.deb` antigos ou duplicados do cache local. É útil para liberar espaço, pois remove apenas os pacotes que **NÃO** podem mais ser baixados (ou seja, versões antigas de pacotes que foram atualizados). Digite o seguinte comando:\n",
    "    \n",
    "    ```bash\n",
    "    sudo apt autoclean\n",
    "    ```\n",
    "\n",
    "    2.3 Remover pacotes que foram automaticamente instalados para satisfazer as dependências de outros pacotes e que **NÃO** são mais necessários. Digite o seguinte comando:\n",
    "    \n",
    "    ```bash\n",
    "    sudo apt autoremove -y\n",
    "    ```\n",
    "\n",
    "    2.4 Buscar as atualizações disponíveis para os pacotes que estão instalados em seu sistema. Digite o seguinte comando e pressione `Enter`: \n",
    "    \n",
    "    ```bash\n",
    "    sudo apt update\n",
    "    ```\n",
    "\n",
    "    2.5 **Corrigir pacotes quebrados**: Isso atualizará a lista de pacotes disponíveis e tentará corrigir pacotes quebrados ou com dependências ausentes:\n",
    "    \n",
    "    ```bash\n",
    "    sudo apt --fix-broken install\n",
    "    ```\n",
    "\n",
    "    2.6 Limpar o `cache` do gerenciador de pacotes `apt`. Especificamente, ele remove todos os arquivos de pacotes (`.deb`) baixados pelo `apt` e armazenados em `/var/cache/apt/archives/`. Digite o seguinte comando:\n",
    "    \n",
    "    ```bash\n",
    "    sudo apt clean\n",
    "    ``` \n",
    "    \n",
    "    2.7 Para ver a lista de pacotes a serem atualizados, digite o seguinte comando e pressione `Enter`:  \n",
    "    \n",
    "    ```bash\n",
    "    sudo apt list --upgradable\n",
    "    ```\n",
    "\n",
    "    2.8 Realmente atualizar os pacotes instalados para as suas versões mais recentes, com base na última vez que você executou `sudo apt update`. Digite o seguinte comando e pressione `Enter`:\n",
    "    \n",
    "    ```bash\n",
    "    sudo apt full-upgrade -y\n",
    "    ```"
   ]
  },
  {
   "cell_type": "markdown",
   "metadata": {},
   "source": [
    "3. **Navegue até o diretório onde o arquivo `.deb` está localizado:** Use o comando cd para navegar até o diretório onde o arquivo `.deb` está localizado. Por exemplo, se o arquivo `.deb` estiver na sua pasta `Downloads`, você pode usar o seguinte comando:\n",
    "\n",
    "    ```bash\n",
    "    cd ~/Downloads\n",
    "    ```\n",
    "\n",
    "4. Instale o arquivo `.deb`: Use o comando `dpkg` para instalar o arquivo `.deb`. Substitua \"`<nome_do_arquivo>.deb`\" pelo nome real do arquivo `.deb` que você deseja instalar:\n",
    "    \n",
    "    ```bash\n",
    "    sudo dpkg -i code_1.82.2-1694671812_amd64.deb\n",
    "    ```\n",
    "\n",
    "    Você precisará fornecer sua senha de administrador (`sudo`) para continuar.\n",
    "\n",
    "5. Resolva as dependências (se necessário): Às vezes, a instalação do arquivo `.deb` pode gerar erros devido a dependências ausentes. Se isso acontecer, você pode usar o seguinte comando para tentar resolver as dependências:\n",
    "\n",
    "    ```bash\n",
    "    sudo apt install -f\n",
    "    ```\n",
    "\n",
    "O comando acima tentará instalar automaticamente as dependências necessárias para o pacote `.deb` que você está instalando.\n",
    "\n",
    "6. **Verifique a instalação:** Após a conclusão do processo, verifique se o programa ou pacote foi instalado corretamente. Você pode fazer isso procurando o aplicativo no menu de aplicativos ou executando-o a partir do terminal com o comando:\n",
    "\n",
    "    ```bash\n",
    "    code\n",
    "    ```\n",
    "\n",
    "Isso deve permitir que você instale um arquivo `.deb` no seu sistema Ubuntu. Lembre-se de que os arquivos .deb são pacotes de software específicos para distribuições baseadas no Debian, como o Ubuntu, e geralmente são seguros de usar, especialmente se você os obtiver de fontes confiáveis. No entanto, sempre esteja ciente da origem dos arquivos .deb que você baixa e evite fontes **NÃO** confiáveis para garantir a segurança do seu sistema.\n"
   ]
  },
  {
   "cell_type": "markdown",
   "metadata": {},
   "source": [
    "## 1.1 Código completo para configurar/instalar/usar o `VS Code` no `Linux Ubuntu` \n",
    "\n",
    "Para configurar/instalar/usar o `VS Code` no `Linux Ubuntu` sem precisar digitar linha por linha, você pode seguir estas etapas:\n",
    "\n",
    "1. Abra o `Terminal Emulator`. Você pode fazer isso pressionando:\n",
    "\n",
    "    ```bash\n",
    "    Ctrl + Alt + T\n",
    "    ```\n",
    "\n",
    "2. Digite o seguinte comando e pressione `Enter`:\n",
    "\n",
    "    ```\n",
    "    NÂO há.\n",
    "    ```"
   ]
  },
  {
   "cell_type": "markdown",
   "metadata": {
    "vscode": {
     "languageId": "plaintext"
    }
   },
   "source": [
    "## 2. Configurar a variável de ambiente no `VS Code`\n",
    "\n",
    "Para configurar o `VS Code` para informar ao sistema operacional que você está em modo de depuração e definir a variável de ambiente `DEBUG_MODE`, você pode seguir os seguintes passos:\n",
    "\n",
    "### 2.1 Configurar a variável de ambiente no `VS Code`\n",
    "\n",
    "1. **Abra seu projeto no `VS Code`**: Certifique-se de que seu projeto esteja aberto no `VS Code`.\n",
    "\n",
    "2. **Crie ou edite o arquivo `launch.json`**:\n",
    "\n",
    "    2.1 O arquivo `launch.json` é usado para configurar o comportamento da depuração no `VS Code`. Se você **NÃO** tiver um arquivo `launch.json`, você pode criar um.\n",
    "\n",
    "    2.2 Para criar ou abrir o `launch.json`, vá para a aba `Run and Debug` (`Ctrl+Shift+D`) e clique no _link_ `create a launch.json file` ou `add configuration`.\n",
    "\n",
    "3. **Adicione a configuração da variável de ambiente**: No arquivo `launch.json`, adicione uma configuração para a variável de ambiente `DEBUG_MODE`. Aqui está um exemplo de configuração que define a variável de ambiente `DEBUG_MODE` para `True` durante a depuração:\n",
    "\n",
    "    ```json\n",
    "    {\n",
    "        \"version\": \"0.2.0\",\n",
    "        \"configurations\": [\n",
    "            {\n",
    "                \"name\": \"Python: Current File\",\n",
    "                \"type\": \"debugpy\",\n",
    "                \"request\": \"launch\",\n",
    "                \"program\": \"${file}\",\n",
    "                \"console\": \"integratedTerminal\",\n",
    "                \"env\": {\n",
    "                    \"DEBUG_MODE\": \"True\"\n",
    "                }\n",
    "            }\n",
    "        ]\n",
    "    }\n",
    "    ```\n",
    "\n",
    "4. **Salvar e iniciar a depuração**: Salve as alterações no arquivo `launch.json`. Inicie a depuração clicando no botão de execução de depuração (ícone de triângulo verde) na aba `Run and Debug` ou pressionando `F5`.\n"
   ]
  },
  {
   "cell_type": "markdown",
   "metadata": {
    "vscode": {
     "languageId": "plaintext"
    }
   },
   "source": [
    "### 2.2 Localização do arquivo `launch.json`\n",
    "\n",
    "o arquivo `launch.json` é armazenado em uma pasta específica dentro do seu projeto no `VS Code`. Ele faz parte da configuração do seu ambiente de depuração. Aqui estão detalhes sobre onde você pode encontrar e como ele é organizado:\n",
    "\n",
    "1. **Localização**:\n",
    "\n",
    "    1.1 O arquivo `launch.json` é armazenado na pasta `.vscode` no diretório raiz do seu projeto. Esta pasta é criada automaticamente pelo `VS Code` quando você adiciona configurações de depuração pela primeira vez.\n",
    "\n",
    "    1.2 O caminho completo seria algo como: `/caminho/para/seu/projeto/.vscode/launch.json`\n",
    "\n",
    "    1.2 Você pode copiar o arquivo para a pasta do seu projeto, execute o comando:\n",
    "    \n",
    "    ```bash\n",
    "    sudo cp /home/edenedfsls/Documents/Downloads/unix/ubuntu/ide/vs_code/vs_code/docs/.vscode/launch.json /caminho/para/seu/projeto/.vscode/\n",
    "    ``` "
   ]
  },
  {
   "cell_type": "markdown",
   "metadata": {
    "vscode": {
     "languageId": "plaintext"
    }
   },
   "source": [
    "### 2.3 Código `Python` para verificar a variável de ambiente\n",
    "\n",
    "Dentro do seu código `Python`, você pode verificar se a variável `DEBUG_MODE` está definida corretamente assim:\n",
    "\n",
    "```python\n",
    "import os\n",
    "\n",
    "# Verificar a variável de ambiente DEBUG_MODE\n",
    "debug_mode = os.getenv(\"DEBUG_MODE\") == \"True\"\n",
    "\n",
    "if debug_mode:\n",
    "    print(\"Modo de depuração ativado.\")\n",
    "else:\n",
    "    print(\"Modo de depuração **NÃO** ativado.\")\n",
    "```\n",
    "\n",
    "**Dicas adicionais**\n",
    "\n",
    "- **Ambientes de desenvolvimento e testes**: Certifique-se de que o `VS Code` e o seu ambiente `Python` estejam configurados corretamente para usar o ambiente virtual ou a configuração desejada.\n",
    "\n",
    "- **Recarregar o `VS Code`**: Às vezes, é útil reiniciar o `VS Code` para garantir que todas as configurações e variáveis de ambiente sejam aplicadas corretamente.\n",
    "\n",
    "Seguindo esses passos, você deverá ser capaz de configurar o `VS Code` para informar ao sistema operacional que você está em modo de depuração e definir a variável `DEBUG_MODE` conforme necessário."
   ]
  },
  {
   "cell_type": "markdown",
   "metadata": {
    "vscode": {
     "languageId": "plaintext"
    }
   },
   "source": [
    "## 3. Configurar o `PEP 8` no `VS Code`\n",
    "\n",
    "Antes de configurar o `PEP 8` no `VS Code` é recomendável conhecer as opções de arquivo `settings.json`, como segue:\n"
   ]
  },
  {
   "cell_type": "markdown",
   "metadata": {
    "vscode": {
     "languageId": "plaintext"
    }
   },
   "source": [
    "### 3.1 Opções de arquivo `settings.json`\n",
    "\n",
    "Há três opções para editar o `settings.json`. Vou explicar quando usar cada uma delas:\n",
    "\n",
    "* **Preferences: `Open User Settings (JSON)`**:\n",
    "\n",
    "    * **Uso**: Essa opção é usada para definir configurações globais que serão aplicadas a todas as instâncias e projetos do `VS Code` no seu ambiente de usuário.\n",
    "\n",
    "    * **Quando usar**: Se você quer que o `PEP 8` seja aplicado em todos os projetos `Python` que você abrir no `VS Code`, faça a alteração aqui.\n",
    "\n",
    "* **Preferences: `Open Default Settings (JSON)`**:\n",
    "\n",
    "    * **Uso**: Este arquivo contém as configurações padrão do `VS Code`, mas **NÃO** é recomendável fazer alterações diretamente neste arquivo. Ele serve mais como referência para ver as configurações padrão.\n",
    "\n",
    "    * **Quando usar**: Não faça modificações aqui.\n",
    "\n",
    "* **Preferences: `Open Workspace Settings (JSON)`**:\n",
    "\n",
    "    * **Uso**: Este arquivo armazena configurações específicas para o _workspace_ ou pasta de projeto atual. As configurações que você fizer aqui só serão aplicadas ao projeto aberto no momento.\n",
    "\n",
    "    * **Quando usar**: Use esta opção se você quer que as configurações de `PEP 8` sejam aplicadas apenas ao projeto atual e **NÃO** a todos os projetos.\n",
    "\n",
    "**Qual opção escolher?**\n",
    "\n",
    "* **Se você quer aplicar as configurações do PEP 8 para todos os projetos no VS Code**: Escolha `Preferences: Open User Settings (JSON)`.\n",
    "\n",
    "* **Se você quer aplicar as configurações apenas para o projeto atual**: Escolha `Preferences: Open Workspace Settings (JSON)`.\n",
    "\n",
    "Normalmente, a opção mais usada é `Open User Settings (JSON)`, pois assim o comportamento será consistente em todos os projetos que você abrir."
   ]
  },
  {
   "cell_type": "markdown",
   "metadata": {
    "vscode": {
     "languageId": "plaintext"
    }
   },
   "source": [
    "### 3.2 Configurar o(s) _linters_ (`flake8` ou `pylint`) no `VS Code`\n",
    "\n",
    "Para garantir que o `VS Code` considere o `PEP 8` (o guia de estilo para Python) ao editar seus códigos, você pode configurar algumas extensões e ajustes nas configurações do editor. Aqui estão os passos para configurar isso:\n",
    "\n",
    "1. **Instalar `pylint` e/ou `flake8`**:\n",
    "\n",
    "    1.1 Para instalar o `pylint`, use:\n",
    "\n",
    "    ```\n",
    "    pip install pylint\n",
    "    ```\n",
    "\n",
    "    1.2 Você pode instalar um _linter_ específico. O `flake8` é uma boa escolha, pois é leve e fácil de usar. Você pode instalá-lo usando `pip`:\n",
    "\n",
    "    ```\n",
    "    pip install flake8\n",
    "    ```\n",
    "\n",
    "2. **Configurar o(s) _linters_ (`pylint` e/ou `flake8`) no `VS Code`**: Você pode adicionar diretamente ao seu arquivo de configuração `settings.json`:\n",
    "\n",
    "    ```json\n",
    "    {\n",
    "        \"python.linting.enabled\": true,\n",
    "        \"python.linting.flake8Enabled\": true,\n",
    "        \"python.linting.pylintEnabled\": false  // ou true, dependendo do que você preferir\n",
    "    }\n",
    "    ```\n",
    "\n",
    "3. **Configurar o Formatação de Código**:\n",
    "\n",
    "    3.1 Para formatar seu código automaticamente de acordo com o PEP 8 ao salvar, você pode usar o `autopep8` ou `black`. Para instalar o `autopep8`, execute:\n",
    "\n",
    "    ```bash\n",
    "    pip install autopep8\n",
    "    ```\n",
    "\n",
    "    3.2 Para configurar a formatação automática ao salvar, adicione ao seu `settings.json`:\n",
    "\n",
    "    ```json\n",
    "    {\n",
    "        \"python.formatting.provider\": \"autopep8\",\n",
    "        \"editor.formatOnSave\": true\n",
    "    }\n",
    "    ```\n",
    "\n",
    "4. **Verificar o Código**: Após configurar tudo, abra um arquivo `Python` e você deve ver as sugestões e avisos do _linter_ em relação ao estilo do `PEP 8`. Você também pode formatar seu código com a tecla de atalho (`Shift+Alt+F` ou `Ctrl+Shift+I`).\n",
    "\n",
    "**Conclusão**\n",
    "\n",
    "Com essas configurações, o `VS Code` considerará o `PEP 8` ao editar códigos `Python`, ajudando a manter um estilo de código consistente e legível. Essas ferramentas **NÃO** apenas ajudam a detectar problemas de estilo, mas também promovem boas práticas de codificação."
   ]
  },
  {
   "cell_type": "markdown",
   "metadata": {
    "vscode": {
     "languageId": "plaintext"
    }
   },
   "source": [
    "### 3.3 Como configurar o limite visual de caracteres no `VS Code`\n",
    "\n",
    "1. **Abra a Paleta de Comandos (`Ctrl+Shift+P`), digite **“Reload Window”** e pressione `Enter`.\n",
    "\n",
    "2. Digite: `settings.json`\n",
    "\n",
    "3. Clique com o botão esquerdo do mouse em `Preferences: Open User Settings (JSON)`\n",
    "\n",
    "4. **Editar o `settings.json`**: Você pode adicionar a seguinte configuração:\n",
    "\n",
    "    ```json\n",
    "    {\n",
    "        // outras configurações...\n",
    "        \"editor.rulers\": [100],\n",
    "        \"editor.wordWrap\": \"on\"  // opcional: quebra de linha automática\n",
    "    }\n",
    "    ```\n",
    "\n",
    "    Se quiser usar `79` em vez de `100`, basta trocar `\"editor.rulers\": [100]` por `\"editor.rulers\":\n",
    "     [79]`. Se quiser os dois, use:\n",
    "\n",
    "    ```json\n",
    "    \"editor.rulers\": [79, 100]\n",
    "    ```\n",
    "\n",
    "O `VS Code` mostrará uma linha vertical cinza (ou da cor do seu tema) na coluna especificada. Isso \n",
    "**NÃO** bloqueia a digitação além do limite, mas ajuda visualmente a manter o padrão.\n"
   ]
  },
  {
   "cell_type": "markdown",
   "metadata": {
    "vscode": {
     "languageId": "plaintext"
    }
   },
   "source": [
    "## 4. Extensões\n",
    "\n",
    "### 4.1 Extensões recomendadas\n",
    "\n",
    "| Extensão                                      | Descrição |\n",
    "|-----------------------------------------------|-----------|\n",
    "| `github.copilot`                              | Assistente de IA da GitHub que sugere trechos de código para aumentar a produtividade. |\n",
    "| `github.copilot-chat`                         | Extensão do GitHub Copilot que permite a interação por chat para sugestões de código. |\n",
    "| `gitlab.gitlab-workflow`                      | Ferramentas para integração com GitLab e fluxo de trabalho direto no VS Code. |\n",
    "| `james-yu.latex-workshop`                     | Extensão para facilitar a edição de documentos LaTeX no VS Code, com visualização de PDF. |\n",
    "| `mechatroner.rainbow-csv`                     | Ferramenta para visualizar e editar arquivos CSV com formatação colorida no VS Code. |\n",
    "| `ms-ceintl.vscode-language-pack-pt-br`        | Pacote de idioma para o VS Code em português do Brasil. |\n",
    "| `ms-python.debugpy`                           | Ferramenta para depuração de código Python no VS Code. |\n",
    "| `ms-python.isort`                             | Extensão para organizar automaticamente importações em código Python. |\n",
    "| `ms-python.python`                            | Extensão oficial do Python para o VS Code, oferecendo recursos como execução, depuração e linting. |\n",
    "| `ms-python.vscode-pylance`                    | Extensão para autocompletar e análise de tipo no Python, baseada no PyLance. |\n",
    "| `ms-toolsai.datawrangler`                    | Ferramenta para manipulação e análise de dados diretamente no VS Code. |\n",
    "| `ms-toolsai.jupyter`                          | Suporte ao Jupyter Notebooks no VS Code, para trabalhar com notebooks interativos de Python. |\n",
    "| `ms-toolsai.jupyter-keymap`                   | Mapeamento de teclas específico para trabalhar com Jupyter Notebooks no VS Code. |\n",
    "| `ms-toolsai.jupyter-renderers`                | Extensão para renderizar saídas de células em Jupyter Notebooks no VS Code. |\n",
    "| `ms-toolsai.vscode-jupyter-cell-tags`         | Permite adicionar tags às células de Jupyter Notebooks no VS Code para melhorar a organização. |\n",
    "| `ms-toolsai.vscode-jupyter-slideshow`         | Ferramenta para criar apresentações interativas com Jupyter Notebooks no VS Code. |\n",
    "| `ms-vscode.cmake-tools`                       | Ferramenta para suporte ao CMake, permitindo configurar e compilar projetos no VS Code. |\n",
    "| `ms-vscode.makefile-tools`                    | Ferramenta para suportar projetos que utilizam Makefiles, permitindo compilação e execução de tarefas. |\n",
    "| `ms-vsliveshare.vsliveshare`                  | Permite a colaboração em tempo real com outros desenvolvedores dentro do VS Code, compartilhando o ambiente de trabalho. |\n",
    "| `redhat.vscode-xml`                           | Extensão para trabalhar com arquivos XML no VS Code, oferecendo validação e formatação. |\n",
    "| `twxs.cmake`                                  | Extensão para facilitar o uso de CMake no VS Code, permitindo criar e configurar projetos C++ facilmente. |\n",
    "| `visualstudioexptteam.intellicode-api-usage-examples` | Exemplos de uso da API IntelliCode, proporcionando sugestões de código baseadas em inteligência artificial. |\n",
    "| `visualstudioexptteam.vscodeintellicode`      | Extensão que oferece sugestões inteligentes de código, melhorando a produtividade com IA. |\n",
    "| `vscjava.vscode-gradle`                       | Suporte completo para projetos Gradle em Java no VS Code, com construção e depuração. |\n",
    "| `vscjava.vscode-maven`                        | Suporte ao Apache Maven para gerenciamento de dependências e construção de projetos Java no VS Code. |\n"
   ]
  },
  {
   "cell_type": "markdown",
   "metadata": {
    "vscode": {
     "languageId": "plaintext"
    }
   },
   "source": [
    "### 4.2 Instalar uma extensão\n",
    "\n",
    "Para instalar uma extensão no `VS Code`, siga os passos abaixo:\n",
    "\n",
    "1. **Abrir o VS Code**:\n",
    "\n",
    "    1.1 Inicie o `VS Code` no seu computador.\n",
    "\n",
    "2. **Acessar a Visualização de Extensões**:\n",
    "\n",
    "    2.1 Clique no ícone de Extensões na barra lateral esquerda ou pressione `Ctrl+Shift+X` para abrir a visualização de extensões.\n",
    "\n",
    "3. **Pesquisar a Extensão**:\n",
    "\n",
    "    2.2 No campo de pesquisa que aparece no topo da barra lateral de extensões, digite o nome da extensão que você deseja instalar (por exemplo, `Python`, `C++`, `GitLab` etc.).\n",
    "\n",
    "4. **Selecionar e Instalar a Extensão**:\n",
    "\n",
    "    4.1 Após encontrar a extensão desejada na lista de resultados, clique nela para abrir a página de detalhes.\n",
    "\n",
    "    4.2 Clique no botão `Instalar` para adicionar a extensão ao seu ambiente de desenvolvimento.\n",
    "\n",
    "5. **Configurar a Extensão (se necessário)**:\n",
    "\n",
    "    5.1 Algumas extensões podem exigir configurações adicionais. Para fazer isso, você pode acessar as configurações do `VS Code` (`File > Preferences > Settings ou Ctrl+,`) e procurar pela extensão instalada para ajustar suas opções conforme necessário.\n",
    "\n",
    "6. **Reiniciar o `VS Code` (se necessário)**:\n",
    "\n",
    "    6.1 Embora a maioria das extensões seja ativada automaticamente, em alguns casos, pode ser necessário reiniciar o `VS Code` para que todas as funcionalidades da extensão sejam corretamente carregadas.\n",
    "\n",
    "Após esses passos, a extensão estará pronta para uso no seu `VS Code`!"
   ]
  },
  {
   "cell_type": "markdown",
   "metadata": {
    "vscode": {
     "languageId": "plaintext"
    }
   },
   "source": [
    "### 4.3 Consultar extensões instaladas através de linha de comando\n",
    "\n",
    "1. Você pode verificar as extensões instaladas no `VS Code` através da linha de comando. Para isso, use o seguinte comando no `Terminal Emulator` do `VS Code`:\n",
    "\n",
    "    ```bash\n",
    "    code --list-extensions\n",
    "    ```\n",
    "\n",
    "    Esse comando vai listar todas as extensões instaladas no seu `VS Code`. Caso queira obter mais detalhes sobre uma extensão específica, como sua versão, você pode adicionar o parâmetro `--show-versions`:\n",
    "\n",
    "    ```bash\n",
    "    code --list-extensions --show-versions\n",
    "    ```\n",
    "    \n",
    "    Isso mostrará todas as extensões junto com suas versões atuais.\n"
   ]
  },
  {
   "cell_type": "markdown",
   "metadata": {
    "vscode": {
     "languageId": "plaintext"
    }
   },
   "source": [
    "### 4.3 Desinstalar uma extensão\n",
    "\n",
    "Para desinstalar uma extensão no `VS Code`, siga os passos abaixo:\n",
    "\n",
    "1. **Abrir o VS Code**:\n",
    "\n",
    "   1.1 Inicie o `VS Code` no seu computador.\n",
    "\n",
    "2. **Acessar a Visualização de Extensões**  \n",
    "   \n",
    "   2.1 Clique no ícone de **Extensões** na barra lateral esquerda ou pressione `Ctrl+Shift+X`.\n",
    "\n",
    "3. **Localizar a Extensão**  \n",
    "   \n",
    "   3.1 No campo de pesquisa, digite o nome da extensão que deseja remover (por exemplo, `Python`, `C++`, `GitLab` etc.).\n",
    "\n",
    "4. **Selecionar e Desinstalar**  \n",
    "   \n",
    "   4.1 Clique na extensão para abrir sua página de detalhes.  \n",
    "   \n",
    "   4.2 Clique no botão **Desinstalar**.\n",
    "\n",
    "5. **Reiniciar o VS Code (se necessário)**  \n",
    "   \n",
    "   5.1 Em alguns casos, é preciso recarregar a janela do editor para encerrar o servidor de linguagem (LSP) da extensão.  \n",
    "   \n",
    "   5.2 Abra a Paleta de Comandos (`Ctrl+Shift+P`), digite **“Reload Window”** e pressione `Enter`.\n",
    "\n",
    "6. **Limpe caches (opcional)**  \n",
    "   \n",
    "   Algumas LSPs armazenam arquivos em cache em:  \n",
    "   \n",
    "   ```bash\n",
    "   ~/.vscode/extensions/\n",
    "   ```\n",
    "   "
   ]
  },
  {
   "cell_type": "markdown",
   "metadata": {
    "vscode": {
     "languageId": "plaintext"
    }
   },
   "source": [
    "#### 4.3.1 Verificar se existe versões antigas do `jupyter` instaladas em paralelo\n",
    "\n",
    "Você ainda tem várias versões antigas do extension host do Jupyter instaladas em paralelo e **NÃO** removidas, por isso aparecem tantos diretórios `ms-toolsai.jupyter-*`. O `VS Code` **NÃO** apaga automaticamente versões antigas quando você atualiza uma extensão, ele cria um novo diretório a cada versão.\n",
    "\n",
    "Para liberar espaço e parar de carregar instâncias órfãs, você pode:\n",
    "\n",
    "**ATENÇÃO**: Possivelmente, se você apagar alguma versão do `jupyter` antiga, porém, compatível com versões de `Python` mais antigos, pode ser que as teclas de atalho se alterem. Poirtanto, sugiro usar esse passo a passo como um tutorial real para excluir outras extensões que não esteja utilizando e que estejam em duplicidade.\n",
    "\n",
    "1. **Manter apenas a última versão**: Digamos que a versão mais recente seja, por exemplo, `ms-toolsai.jupyter-2025.4.1-linux-x64`. Você pode remover todas as outras com algo como:\n",
    "\n",
    "    ```bash\n",
    "    cd ~/.vscode/extensions\n",
    "    ls -d ms-toolsai.jupyter-* | grep -v 2025.4.1 | xargs rm -rf\n",
    "    ```\n",
    "\n",
    "2. **Fazer o mesmo para outras extensões **NÃO** usadas\n",
    "\n",
    "    * `github.copilot-chat` se **NÃO** usa o _chat_ do `Copilot`\n",
    "\n",
    "    * `mechatroner.rainbow-csv` se **NÃO** trabalha com CSV colorido\n",
    "\n",
    "    * `ms-vscode-remote.remote-wsl` se **NÃO** desenvolve no WSL\n",
    "\n",
    "    * `ms-vsliveshare.vsliveshare` se **NÃO** usa Live Share\n",
    "\n",
    "    * `redhat.vscode-xml` se **NÃO** edita XML\n",
    "\n",
    "3. **Recarregar o `VS Code`**\n",
    "\n",
    "    Após remover os diretórios antigos, abra o Command Palette (`Ctrl+Shift+P`) e execute `Reload Window` para reiniciar o Extension Host e efetivamente encerrar os servidores LSP órfãos.\n",
    "\n",
    "Dessa forma você mantém apenas o que realmente usa e reduz significativamente o consumo de memória."
   ]
  },
  {
   "cell_type": "markdown",
   "metadata": {
    "vscode": {
     "languageId": "plaintext"
    }
   },
   "source": [
    "### 5. Habilitar o `PyLance`\n",
    "\n",
    "Para habilitar o `PyLance` no `VS Code`, siga os passos abaixo:\n",
    "\n",
    "1. **Instalar a Extensão `PyLance`**:\n",
    "\n",
    "    1.1 Abra o `VS Code`.\n",
    "\n",
    "    1.2 Vá até a visualização de extensões clicando no ícone de quadrado no menu lateral esquerdo ou pressione: `Ctrl+Shift+X`.\n",
    "\n",
    "    1.3 No campo de pesquisa, digite `PyLance`.\n",
    "\n",
    "    1.4 Clique na extensão `PyLance` da `Microsoft` e depois clique em Instalar.\n",
    "\n",
    "2. **Configurar o `PyLance` como o servidor de linguagem `Python`**:\n",
    "\n",
    "    2.1 Após a instalação, `PyLance` será ativado automaticamente, mas você pode verificar ou alterar a configuração manualmente.\n",
    "\n",
    "    2.2 Abra a configuração do `VS Code` clicando em `File > Preferences > Settings` ou pressionando `Ctrl+,`.\n",
    "\n",
    "    2.3 Na barra de pesquisa de configurações, digite `python.languageServer`.\n",
    "\n",
    "    2.4 No campo de configuração que aparecer, altere o valor para `Pylance` (se **NÃO** estiver configurado automaticamente).\n",
    "\n",
    "3. **Reinicie o `VS Code`**:\n",
    "\n",
    "    3.1 Para garantir que as configurações sejam aplicadas corretamente, reinicie o `VS Code`.\n",
    "\n",
    "Com isso, o `PyLance` estará ativado e você poderá aproveitar os recursos avançados como autocompletar, análise de tipos estática, navegação de código e outros recursos de produtividade no seu projeto `Python`.\n"
   ]
  },
  {
   "cell_type": "markdown",
   "metadata": {
    "vscode": {
     "languageId": "plaintext"
    }
   },
   "source": [
    "## 6. Atalhos para visualizar objetos\n",
    "\n",
    "Essa funcionalidade é separada em algumas ferramentas, e depende da linguagem que você está usando (ex: `Python`, `C#`, `JavaScript` etc.). Para `Python`, por exemplo, e para outras linguagens também, você tem:\n",
    "\n",
    "| Recurso                        | O que faz                                                                 | Como acessar                                              |\n",
    "|-------------------------------|---------------------------------------------------------------------------|-----------------------------------------------------------|\n",
    "| **Ir para Definição**         | Vai para onde a função/objeto/classe está definido                        | `F12`, `Ctrl+Clique` ou clique com o botão direito do mouse e escolha a opção `\"Go to Definition\"`              |\n",
    "| **Procurar Simbologia**       | Lista todas funções, classes, variáveis do projeto                        | `Ctrl+T`                                                  |\n",
    "| **Exibir Esquema do Arquivo** | Mostra todas funções/classe/variáveis dentro do arquivo atual             | `Ctrl+Shift+O`                                            |\n",
    "| **Pesquisar na Árvore de Símbolos** | Pesquisa em todo o projeto                                          | `Ctrl+P`, depois digite `#nome`                           |\n",
    "| **IntelliSense**              | Autocompleta e sugere funções, propriedades, métodos                      | `Ctrl+Espaço` (ou automático conforme digita)             |\n",
    "| **Extensões específicas**     | Instalar extensões como *Python*, *Pylance*, *IntelliCode*, etc.          | Pela aba de extensões no `VS Code` (`Ctrl+Shift+X`)         |\n"
   ]
  },
  {
   "cell_type": "markdown",
   "metadata": {
    "vscode": {
     "languageId": "plaintext"
    }
   },
   "source": [
    "## Referências\n",
    "\n",
    "[1] OPENAI. ***Instalar arquivo .sh no ubuntu.*** Disponível em: <https://chat.openai.com/c/073320a8-7cc5-4590-9da0-d2bcc7093c88> (texto adaptado). Acessado em: 17/10/2023 16:05.\n",
    "\n",
    "[2] OPENAI. ***VS code: editor popular.*** Disponível em: <https://chat.openai.com/c/b640a25d-f8e3-4922-8a3b-ed74a2657e42> (texto adaptado). Acessado em: 14/11/2023 09:33.\n"
   ]
  }
 ],
 "metadata": {
  "kernelspec": {
   "display_name": "Python 3",
   "language": "python",
   "name": "python3"
  },
  "language_info": {
   "codemirror_mode": {
    "name": "ipython",
    "version": 3
   },
   "file_extension": ".py",
   "mimetype": "text/x-python",
   "name": "python",
   "nbconvert_exporter": "python",
   "pygments_lexer": "ipython3",
   "version": "3.10.12"
  },
  "orig_nbformat": 4
 },
 "nbformat": 4,
 "nbformat_minor": 2
}
