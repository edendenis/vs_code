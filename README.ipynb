{
 "cells": [
  {
   "cell_type": "markdown",
   "metadata": {},
   "source": [
    "# Como configurar/instalar/usar o `VS Code` no `Linux Ubuntu`\n",
    "\n",
    "## Resumo\n",
    "\n",
    "Neste documento estão contidos os principais comandos e configurações para configurar/instalar o `VS Code` no `Linux Ubuntu`.\n",
    "\n",
    "## _Abstract_\n",
    "\n",
    "_In this document are contained the main commands and settings to set up/install/usae the `VS Code` on `Linux Ubuntu`._"
   ]
  },
  {
   "cell_type": "markdown",
   "metadata": {},
   "source": [
    "## Descrição [2]\n",
    "\n",
    "### `VS Code (Visual Studio Code)`\n",
    "\n",
    "O `Visual Studio Code`, comumente conhecido como VS Code, é um editor de código-fonte altamente popular e amplamente utilizado por desenvolvedores de software em todo o mundo. Desenvolvido pela Microsoft, o VS Code é uma ferramenta altamente personalizável e extensível, que oferece suporte a uma ampla variedade de linguagens de programação e _frameworks_. Sua interface simples e intuitiva, juntamente com recursos poderosos, como realce de sintaxe, depuração integrada, controle de versão e uma vasta coleção de extensões disponíveis na sua loja, tornam-no uma escolha preferida para muitos programadores que buscam eficiência e produtividade em seus projetos de desenvolvimento de _software_.\n",
    "\n",
    "### `Linting`\n",
    "\n",
    "O `Linting` é o processo de análise estática de código-fonte para identificar problemas, erros de sintaxe, e más práticas de programação antes da execução do programa. Ferramentas de linting, conhecidas como _linters_, verificam o código em busca de inconsistências, padrões de estilo e potenciais _bugs_, ajudando os desenvolvedores a manterem a qualidade e legibilidade do código. Esse recurso é especialmente valioso em equipes de desenvolvimento, pois promove a conformidade com diretrizes de codificação e reduz a probabilidade de erros em produção, resultando em um código mais robusto e fácil de manter.\n"
   ]
  },
  {
   "cell_type": "markdown",
   "metadata": {},
   "source": [
    "## 1. Como configurar/instalar/usar o `VS Code` no `Linux Ubuntu` [1]\n",
    "\n",
    "Para configurar/instalar/usar o `VS Code` no `Linux Ubuntu`, você pode seguir estas etapas:\n",
    "\n",
    "1. Abra o `Terminal Emulator`. Você pode fazer isso pressionando: `Ctrl + Alt + T`\n"
   ]
  },
  {
   "cell_type": "markdown",
   "metadata": {},
   "source": [
    "2. Certifique-se de que seu sistema esteja limpo e atualizado.\n",
    "\n",
    "    2.1 Limpar o `cache` do gerenciador de pacotes `apt`. Especificamente, ele remove todos os arquivos de pacotes (`.deb`) baixados pelo `apt` e armazenados em `/var/cache/apt/archives/`. Digite o seguinte comando:\n",
    "    \n",
    "    ```bash\n",
    "    sudo apt clean\n",
    "    ``` \n",
    "    \n",
    "    2.2 Remover pacotes `.deb` antigos ou duplicados do cache local. É útil para liberar espaço, pois remove apenas os pacotes que não podem mais ser baixados (ou seja, versões antigas de pacotes que foram atualizados). Digite o seguinte comando:\n",
    "    \n",
    "    ```bash\n",
    "    sudo apt autoclean\n",
    "    ```\n",
    "\n",
    "    2.3 Remover pacotes que foram automaticamente instalados para satisfazer as dependências de outros pacotes e que não são mais necessários. Digite o seguinte comando:\n",
    "    \n",
    "    ```bash\n",
    "    sudo apt autoremove -y\n",
    "    ```\n",
    "\n",
    "    2.4 Buscar as atualizações disponíveis para os pacotes que estão instalados em seu sistema. Digite o seguinte comando e pressione `Enter`: \n",
    "    \n",
    "    ```bash\n",
    "    sudo apt update\n",
    "    ```\n",
    "\n",
    "    2.5 **Corrigir pacotes quebrados**: Isso atualizará a lista de pacotes disponíveis e tentará corrigir pacotes quebrados ou com dependências ausentes:\n",
    "    \n",
    "    ```bash\n",
    "    sudo apt --fix-broken install\n",
    "    ```\n",
    "\n",
    "    2.6 Limpar o `cache` do gerenciador de pacotes `apt`. Especificamente, ele remove todos os arquivos de pacotes (`.deb`) baixados pelo `apt` e armazenados em `/var/cache/apt/archives/`. Digite o seguinte comando:\n",
    "    \n",
    "    ```bash\n",
    "    sudo apt clean\n",
    "    ``` \n",
    "    \n",
    "    2.7 Para ver a lista de pacotes a serem atualizados, digite o seguinte comando e pressione `Enter`:  \n",
    "    \n",
    "    ```bash\n",
    "    sudo apt list --upgradable\n",
    "    ```\n",
    "\n",
    "    2.8 Realmente atualizar os pacotes instalados para as suas versões mais recentes, com base na última vez que você executou `sudo apt update`. Digite o seguinte comando e pressione `Enter`:\n",
    "    \n",
    "    ```bash\n",
    "    sudo apt full-upgrade -y\n",
    "    ```"
   ]
  },
  {
   "cell_type": "markdown",
   "metadata": {},
   "source": [
    "3. **Navegue até o diretório onde o arquivo `.deb` está localizado:** Use o comando cd para navegar até o diretório onde o arquivo `.deb` está localizado. Por exemplo, se o arquivo `.deb` estiver na sua pasta `Downloads`, você pode usar o seguinte comando:\n",
    "\n",
    "    ```bash\n",
    "    cd ~/Downloads\n",
    "    ```\n",
    "\n",
    "4. Instale o arquivo `.deb`: Use o comando `dpkg` para instalar o arquivo `.deb`. Substitua \"`<nome_do_arquivo>.deb`\" pelo nome real do arquivo `.deb` que você deseja instalar:\n",
    "    \n",
    "    ```bash\n",
    "    sudo dpkg -i code_1.82.2-1694671812_amd64.deb\n",
    "    ```\n",
    "\n",
    "    Você precisará fornecer sua senha de administrador (`sudo`) para continuar.\n",
    "\n",
    "5. Resolva as dependências (se necessário): Às vezes, a instalação do arquivo `.deb` pode gerar erros devido a dependências ausentes. Se isso acontecer, você pode usar o seguinte comando para tentar resolver as dependências:\n",
    "\n",
    "    ```bash\n",
    "    sudo apt install -f\n",
    "    ```\n",
    "\n",
    "O comando acima tentará instalar automaticamente as dependências necessárias para o pacote `.deb` que você está instalando.\n",
    "\n",
    "6. **Verifique a instalação:** Após a conclusão do processo, verifique se o programa ou pacote foi instalado corretamente. Você pode fazer isso procurando o aplicativo no menu de aplicativos ou executando-o a partir do terminal com o comando:\n",
    "\n",
    "    ```bash\n",
    "    code\n",
    "    ```\n",
    "\n",
    "Isso deve permitir que você instale um arquivo `.deb` no seu sistema Ubuntu. Lembre-se de que os arquivos .deb são pacotes de software específicos para distribuições baseadas no Debian, como o Ubuntu, e geralmente são seguros de usar, especialmente se você os obtiver de fontes confiáveis. No entanto, sempre esteja ciente da origem dos arquivos .deb que você baixa e evite fontes não confiáveis para garantir a segurança do seu sistema.\n"
   ]
  },
  {
   "cell_type": "markdown",
   "metadata": {},
   "source": [
    "## 1.1 Código completo para configurar/instalar/usar o `VS Code` no `Linux Ubuntu` \n",
    "\n",
    "Para configurar/instalar/usar o `VS Code` no `Linux Ubuntu` sem precisar digitar linha por linha, você pode seguir estas etapas:\n",
    "\n",
    "1. Abra o `Terminal Emulator`. Você pode fazer isso pressionando:\n",
    "\n",
    "    ```bash\n",
    "    Ctrl + Alt + T\n",
    "    ```\n",
    "\n",
    "2. Digite o seguinte comando e pressione `Enter`:\n",
    "\n",
    "    ```\n",
    "    NÂO há.\n",
    "    ```"
   ]
  },
  {
   "cell_type": "markdown",
   "metadata": {
    "vscode": {
     "languageId": "plaintext"
    }
   },
   "source": [
    "## 2. Configurar a variável de ambiente no `VS Code`\n",
    "\n",
    "Para configurar o `VS Code` para informar ao sistema operacional que você está em modo de depuração e definir a variável de ambiente `DEBUG_MODE`, você pode seguir os seguintes passos:\n",
    "\n",
    "### 2.1 Configurar a variável de ambiente no `VS Code`\n",
    "\n",
    "1. **Abra seu projeto no `VS Code`**: Certifique-se de que seu projeto esteja aberto no `VS Code`.\n",
    "\n",
    "2. **Crie ou edite o arquivo `launch.json`**:\n",
    "\n",
    "    2.1 O arquivo `launch.json` é usado para configurar o comportamento da depuração no `VS Code`. Se você não tiver um arquivo `launch.json`, você pode criar um.\n",
    "\n",
    "    2.2 Para criar ou abrir o `launch.json`, vá para a aba `Run and Debug` (`Ctrl+Shift+D`) e clique no _link_ `create a launch.json file` ou `add configuration`.\n",
    "\n",
    "3. **Adicione a configuração da variável de ambiente**: No arquivo `launch.json`, adicione uma configuração para a variável de ambiente `DEBUG_MODE`. Aqui está um exemplo de configuração que define a variável de ambiente `DEBUG_MODE` para `True` durante a depuração:\n",
    "\n",
    "    ```json\n",
    "    {\n",
    "        \"version\": \"0.2.0\",\n",
    "        \"configurations\": [\n",
    "            {\n",
    "                \"name\": \"Python: Current File\",\n",
    "                \"type\": \"debugpy\",\n",
    "                \"request\": \"launch\",\n",
    "                \"program\": \"${file}\",\n",
    "                \"console\": \"integratedTerminal\",\n",
    "                \"env\": {\n",
    "                    \"DEBUG_MODE\": \"True\"\n",
    "                }\n",
    "            }\n",
    "        ]\n",
    "    }\n",
    "    ```\n",
    "\n",
    "4. **Salvar e iniciar a depuração**: Salve as alterações no arquivo `launch.json`. Inicie a depuração clicando no botão de execução de depuração (ícone de triângulo verde) na aba `Run and Debug` ou pressionando `F5`.\n"
   ]
  },
  {
   "cell_type": "markdown",
   "metadata": {
    "vscode": {
     "languageId": "plaintext"
    }
   },
   "source": [
    "### 2.2 Localização do arquivo `launch.json`\n",
    "\n",
    "o arquivo `launch.json` é armazenado em uma pasta específica dentro do seu projeto no `VS Code`. Ele faz parte da configuração do seu ambiente de depuração. Aqui estão detalhes sobre onde você pode encontrar e como ele é organizado:\n",
    "\n",
    "1. **Localização**:\n",
    "\n",
    "    1.1 O arquivo `launch.json` é armazenado na pasta `.vscode` no diretório raiz do seu projeto. Esta pasta é criada automaticamente pelo `VS Code` quando você adiciona configurações de depuração pela primeira vez.\n",
    "\n",
    "    1.2 O caminho completo seria algo como: `/caminho/para/seu/projeto/.vscode/launch.json`\n",
    "\n",
    "    1.2 Você pode copiar o arquivo para a pasta do seu projeto, execute o comando:\n",
    "    \n",
    "    ```bash\n",
    "    sudo cp /home/edenedfsls/Documents/Downloads/unix/ubuntu/ide/vs_code/vs_code/docs/.vscode/launch.json /caminho/para/seu/projeto/.vscode/\n",
    "    ``` "
   ]
  },
  {
   "cell_type": "markdown",
   "metadata": {
    "vscode": {
     "languageId": "plaintext"
    }
   },
   "source": [
    "### 2.3 Código `Python` para verificar a variável de ambiente\n",
    "\n",
    "Dentro do seu código `Python`, você pode verificar se a variável `DEBUG_MODE` está definida corretamente assim:\n",
    "\n",
    "```python\n",
    "import os\n",
    "\n",
    "# Verificar a variável de ambiente DEBUG_MODE\n",
    "debug_mode = os.getenv(\"DEBUG_MODE\") == \"True\"\n",
    "\n",
    "if debug_mode:\n",
    "    print(\"Modo de depuração ativado.\")\n",
    "else:\n",
    "    print(\"Modo de depuração não ativado.\")\n",
    "```\n",
    "\n",
    "**Dicas adicionais**\n",
    "\n",
    "- **Ambientes de desenvolvimento e testes**: Certifique-se de que o `VS Code` e o seu ambiente `Python` estejam configurados corretamente para usar o ambiente virtual ou a configuração desejada.\n",
    "\n",
    "- **Recarregar o `VS Code`**: Às vezes, é útil reiniciar o `VS Code` para garantir que todas as configurações e variáveis de ambiente sejam aplicadas corretamente.\n",
    "\n",
    "Seguindo esses passos, você deverá ser capaz de configurar o `VS Code` para informar ao sistema operacional que você está em modo de depuração e definir a variável `DEBUG_MODE` conforme necessário."
   ]
  },
  {
   "cell_type": "markdown",
   "metadata": {
    "vscode": {
     "languageId": "plaintext"
    }
   },
   "source": [
    "## 3. Configurar o `PEP 8` no `VS Code`\n",
    "\n",
    "Antes de configurar o `PEP 8` no `VS Code` é recomendável conhecer as opções de arquivo `settings.json`, como segue:\n"
   ]
  },
  {
   "cell_type": "markdown",
   "metadata": {
    "vscode": {
     "languageId": "plaintext"
    }
   },
   "source": [
    "### 3.1 Opções de arquivo `settings.json`\n",
    "\n",
    "Há três opções para editar o `settings.json`. Vou explicar quando usar cada uma delas:\n",
    "\n",
    "* **Preferences: `Open User Settings (JSON)`**:\n",
    "\n",
    "    * **Uso**: Essa opção é usada para definir configurações globais que serão aplicadas a todas as instâncias e projetos do `VS Code` no seu ambiente de usuário.\n",
    "\n",
    "    * **Quando usar**: Se você quer que o `PEP 8` seja aplicado em todos os projetos `Python` que você abrir no `VS Code`, faça a alteração aqui.\n",
    "\n",
    "* **Preferences: `Open Default Settings (JSON)`**:\n",
    "\n",
    "    * **Uso**: Este arquivo contém as configurações padrão do `VS Code`, mas não é recomendável fazer alterações diretamente neste arquivo. Ele serve mais como referência para ver as configurações padrão.\n",
    "\n",
    "    * **Quando usar**: Não faça modificações aqui.\n",
    "\n",
    "* **Preferences: `Open Workspace Settings (JSON)`**:\n",
    "\n",
    "    * **Uso**: Este arquivo armazena configurações específicas para o _workspace_ ou pasta de projeto atual. As configurações que você fizer aqui só serão aplicadas ao projeto aberto no momento.\n",
    "\n",
    "    * **Quando usar**: Use esta opção se você quer que as configurações de `PEP 8` sejam aplicadas apenas ao projeto atual e não a todos os projetos.\n",
    "\n",
    "**Qual opção escolher?**\n",
    "\n",
    "* **Se você quer aplicar as configurações do PEP 8 para todos os projetos no VS Code**: Escolha `Preferences: Open User Settings (JSON)`.\n",
    "\n",
    "* **Se você quer aplicar as configurações apenas para o projeto atual**: Escolha `Preferences: Open Workspace Settings (JSON)`.\n",
    "\n",
    "Normalmente, a opção mais usada é `Open User Settings (JSON)`, pois assim o comportamento será consistente em todos os projetos que você abrir."
   ]
  },
  {
   "cell_type": "markdown",
   "metadata": {
    "vscode": {
     "languageId": "plaintext"
    }
   },
   "source": [
    "### 3.2 Configurar o(s) _linters_ (`flake8` ou `pylint`) no `VS Code`\n",
    "\n",
    "Para garantir que o `VS Code` considere o `PEP 8` (o guia de estilo para Python) ao editar seus códigos, você pode configurar algumas extensões e ajustes nas configurações do editor. Aqui estão os passos para configurar isso:\n",
    "\n",
    "1. **Instalar `pylint` e/ou `flake8`**:\n",
    "\n",
    "    1.1 Para instalar o `pylint`, use:\n",
    "\n",
    "    ```\n",
    "    pip install pylint\n",
    "    ```\n",
    "\n",
    "    1.2 Você pode instalar um _linter_ específico. O `flake8` é uma boa escolha, pois é leve e fácil de usar. Você pode instalá-lo usando `pip`:\n",
    "\n",
    "    ```\n",
    "    pip install flake8\n",
    "    ```\n",
    "\n",
    "2. **Configurar o(s) _linters_ (`flake8` e/ou `pylint`) no `VS Code`**: Você pode adicionar diretamente ao seu arquivo de configuração `settings.json`:\n",
    "\n",
    "    ```json\n",
    "    {\n",
    "        \"python.linting.enabled\": true,\n",
    "        \"python.linting.flake8Enabled\": true,\n",
    "        \"python.linting.pylintEnabled\": false  // ou true, dependendo do que você preferir\n",
    "    }\n",
    "    ```\n",
    "\n",
    "3. **Configurar o Formatação de Código**:\n",
    "\n",
    "    3.1 Para formatar seu código automaticamente de acordo com o PEP 8 ao salvar, você pode usar o `autopep8` ou `black`. Para instalar o `autopep8`, execute:\n",
    "\n",
    "    ```bash\n",
    "    pip install autopep8\n",
    "    ```\n",
    "\n",
    "    3.2 Para configurar a formatação automática ao salvar, adicione ao seu `settings.json`:\n",
    "\n",
    "    ```json\n",
    "    {\n",
    "        \"python.formatting.provider\": \"autopep8\",\n",
    "        \"editor.formatOnSave\": true\n",
    "    }\n",
    "    ```\n",
    "\n",
    "4. **Verificar o Código**: Após configurar tudo, abra um arquivo `Python` e você deve ver as sugestões e avisos do _linter_ em relação ao estilo do `PEP 8`. Você também pode formatar seu código com a tecla de atalho (`Shift+Alt+F` ou `Ctrl+Shift+I`).\n",
    "\n",
    "**Conclusão**\n",
    "\n",
    "Com essas configurações, o `VS Code` considerará o `PEP 8` ao editar códigos `Python`, ajudando a manter um estilo de código consistente e legível. Essas ferramentas não apenas ajudam a detectar problemas de estilo, mas também promovem boas práticas de codificação."
   ]
  },
  {
   "cell_type": "markdown",
   "metadata": {
    "vscode": {
     "languageId": "plaintext"
    }
   },
   "source": [
    "### 3.3 Como configurar o limite visual de caracteres no `VS Code`\n",
    "\n",
    "1. **Editar o `settings.json`**: Você pode adicionar a seguinte configuração:\n",
    "\n",
    "    ```json\n",
    "    {\n",
    "        // outras configurações...\n",
    "        \"editor.rulers\": [100],\n",
    "        \"editor.wordWrap\": \"on\"  // opcional: quebra de linha automática\n",
    "    }\n",
    "    ```\n",
    "\n",
    "    Se quiser usar 100 em vez de 79, basta trocar `\"editor.rulers\": [79]` por `\"editor.rulers\": [100]`. Se quiser os dois, use:\n",
    "\n",
    "    ```json\n",
    "    \"editor.rulers\": [79, 100]\n",
    "    ```\n",
    "\n",
    "O `VS Code` mostrará uma linha vertical cinza (ou da cor do seu tema) na coluna especificada. Isso não bloqueia a digitação além do limite, mas ajuda visualmente a manter o padrão.\n"
   ]
  },
  {
   "cell_type": "markdown",
   "metadata": {
    "vscode": {
     "languageId": "plaintext"
    }
   },
   "source": [
    "## 4. Atalhos para visualizar objetos\n",
    "\n",
    "Essa funcionalidade é separada em algumas ferramentas, e depende da linguagem que você está usando (ex: `Python`, `C#`, `JavaScript` etc.). Para `Python`, por exemplo, e para outras linguagens também, você tem:\n",
    "\n",
    "| Recurso                        | O que faz                                                                 | Como acessar                                              |\n",
    "|-------------------------------|---------------------------------------------------------------------------|-----------------------------------------------------------|\n",
    "| **Ir para Definição**         | Vai para onde a função/objeto/classe está definido                        | `F12`, `Ctrl+Clique` ou clique com o botão direito do mouse e escolha a opção `\"Go to Definition\"`              |\n",
    "| **Procurar Simbologia**       | Lista todas funções, classes, variáveis do projeto                        | `Ctrl+T`                                                  |\n",
    "| **Exibir Esquema do Arquivo** | Mostra todas funções/classe/variáveis dentro do arquivo atual             | `Ctrl+Shift+O`                                            |\n",
    "| **Pesquisar na Árvore de Símbolos** | Pesquisa em todo o projeto                                          | `Ctrl+P`, depois digite `#nome`                           |\n",
    "| **IntelliSense**              | Autocompleta e sugere funções, propriedades, métodos                      | `Ctrl+Espaço` (ou automático conforme digita)             |\n",
    "| **Extensões específicas**     | Instalar extensões como *Python*, *Pylance*, *IntelliCode*, etc.          | Pela aba de extensões no `VS Code` (`Ctrl+Shift+X`)         |\n"
   ]
  },
  {
   "cell_type": "markdown",
   "metadata": {
    "vscode": {
     "languageId": "plaintext"
    }
   },
   "source": [
    "## Referências\n",
    "\n",
    "[1] OPENAI. ***Instalar arquivo .sh no ubuntu.*** Disponível em: <https://chat.openai.com/c/073320a8-7cc5-4590-9da0-d2bcc7093c88> (texto adaptado). Acessado em: 17/10/2023 16:05.\n",
    "\n",
    "[2] OPENAI. ***VS code: editor popular.*** Disponível em: <https://chat.openai.com/c/b640a25d-f8e3-4922-8a3b-ed74a2657e42> (texto adaptado). Acessado em: 14/11/2023 09:33.\n"
   ]
  }
 ],
 "metadata": {
  "kernelspec": {
   "display_name": "Python 3",
   "language": "python",
   "name": "python3"
  },
  "language_info": {
   "codemirror_mode": {
    "name": "ipython",
    "version": 3
   },
   "file_extension": ".py",
   "mimetype": "text/x-python",
   "name": "python",
   "nbconvert_exporter": "python",
   "pygments_lexer": "ipython3",
   "version": "3.8.10"
  },
  "orig_nbformat": 4
 },
 "nbformat": 4,
 "nbformat_minor": 2
}
